{
 "cells": [
  {
   "cell_type": "code",
   "execution_count": 4,
   "id": "9a931975",
   "metadata": {},
   "outputs": [
    {
     "name": "stdout",
     "output_type": "stream",
     "text": [
      "Bem vindo(a) à Calculadora\n"
     ]
    }
   ],
   "source": [
    "print(\"Bem vindo(a) à Calculadora\")"
   ]
  },
  {
   "cell_type": "code",
   "execution_count": 9,
   "id": "9fefe76c",
   "metadata": {
    "scrolled": true
   },
   "outputs": [
    {
     "name": "stdout",
     "output_type": "stream",
     "text": [
      "Favor inserir o primeiro número: 3\n"
     ]
    }
   ],
   "source": [
    "num1 = float(input(\"Favor inserir o primeiro número: \"))"
   ]
  },
  {
   "cell_type": "code",
   "execution_count": 10,
   "id": "7c8ac3b7",
   "metadata": {},
   "outputs": [
    {
     "name": "stdout",
     "output_type": "stream",
     "text": [
      "Favor inserir o segundo número: 9\n"
     ]
    }
   ],
   "source": [
    "num2 = float(input(\"Favor inserir o segundo número: \"))"
   ]
  },
  {
   "cell_type": "code",
   "execution_count": 11,
   "id": "ac6cc18f",
   "metadata": {},
   "outputs": [
    {
     "name": "stdout",
     "output_type": "stream",
     "text": [
      "Escolha uma operação: +, -, *, /*\n"
     ]
    }
   ],
   "source": [
    "operacao = input(\"Escolha uma operação: +, -, *, /\")"
   ]
  },
  {
   "cell_type": "code",
   "execution_count": 12,
   "id": "80e9e468",
   "metadata": {},
   "outputs": [
    {
     "name": "stdout",
     "output_type": "stream",
     "text": [
      "O resultado é  27.0\n"
     ]
    }
   ],
   "source": [
    "if operacao == \"+\":\n",
    "    resultado = num1 + num2\n",
    "    print(\"O resultado é \", resultado)\n",
    "    \n",
    "elif operacao == \"-\":\n",
    "    resultado = num1 - num2\n",
    "    print(\"O resultado é \", resultado)\n",
    "    \n",
    "elif operacao == \"*\":\n",
    "    resultado = num1 * num2\n",
    "    print(\"O resultado é \", resultado)\n",
    "    \n",
    "elif operacao == \"/\":\n",
    "    resultado = num1 / num2\n",
    "    print(\"O resultado é \", resultado)\n",
    "    \n",
    "else:\n",
    "    print(\"Operação inválida\")"
   ]
  },
  {
   "cell_type": "code",
   "execution_count": null,
   "id": "0d940ab1",
   "metadata": {},
   "outputs": [],
   "source": [
    "print(\"Fim!\")"
   ]
  }
 ],
 "metadata": {
  "kernelspec": {
   "display_name": "Python 3 (ipykernel)",
   "language": "python",
   "name": "python3"
  },
  "language_info": {
   "codemirror_mode": {
    "name": "ipython",
    "version": 3
   },
   "file_extension": ".py",
   "mimetype": "text/x-python",
   "name": "python",
   "nbconvert_exporter": "python",
   "pygments_lexer": "ipython3",
   "version": "3.9.13"
  }
 },
 "nbformat": 4,
 "nbformat_minor": 5
}
